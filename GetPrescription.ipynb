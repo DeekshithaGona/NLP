{
  "nbformat": 4,
  "nbformat_minor": 0,
  "metadata": {
    "colab": {
      "provenance": [],
      "authorship_tag": "ABX9TyOXQbzjmH+U6+7yPYQ+KBwq",
      "include_colab_link": true
    },
    "kernelspec": {
      "name": "python3",
      "display_name": "Python 3"
    },
    "language_info": {
      "name": "python"
    }
  },
  "cells": [
    {
      "cell_type": "markdown",
      "metadata": {
        "id": "view-in-github",
        "colab_type": "text"
      },
      "source": [
        "<a href=\"https://colab.research.google.com/github/DeekshithaGona/NLP/blob/main/GetPrescription.ipynb\" target=\"_parent\"><img src=\"https://colab.research.google.com/assets/colab-badge.svg\" alt=\"Open In Colab\"/></a>"
      ]
    },
    {
      "cell_type": "code",
      "execution_count": 1,
      "metadata": {
        "colab": {
          "base_uri": "https://localhost:8080/"
        },
        "id": "s0ieu0NF0I7B",
        "outputId": "c6663f8d-d868-4bcf-a598-5f40c3fe0f5e"
      },
      "outputs": [
        {
          "output_type": "stream",
          "name": "stdout",
          "text": [
            "Reading package lists... Done\n",
            "Building dependency tree... Done\n",
            "Reading state information... Done\n",
            "The following additional packages will be installed:\n",
            "  tesseract-ocr-eng tesseract-ocr-osd\n",
            "The following NEW packages will be installed:\n",
            "  tesseract-ocr tesseract-ocr-eng tesseract-ocr-osd\n",
            "0 upgraded, 3 newly installed, 0 to remove and 16 not upgraded.\n",
            "Need to get 4,816 kB of archives.\n",
            "After this operation, 15.6 MB of additional disk space will be used.\n",
            "Get:1 http://archive.ubuntu.com/ubuntu jammy/universe amd64 tesseract-ocr-eng all 1:4.00~git30-7274cfa-1.1 [1,591 kB]\n",
            "Get:2 http://archive.ubuntu.com/ubuntu jammy/universe amd64 tesseract-ocr-osd all 1:4.00~git30-7274cfa-1.1 [2,990 kB]\n",
            "Get:3 http://archive.ubuntu.com/ubuntu jammy/universe amd64 tesseract-ocr amd64 4.1.1-2.1build1 [236 kB]\n",
            "Fetched 4,816 kB in 2s (1,929 kB/s)\n",
            "debconf: unable to initialize frontend: Dialog\n",
            "debconf: (No usable dialog-like program is installed, so the dialog based frontend cannot be used. at /usr/share/perl5/Debconf/FrontEnd/Dialog.pm line 78, <> line 3.)\n",
            "debconf: falling back to frontend: Readline\n",
            "debconf: unable to initialize frontend: Readline\n",
            "debconf: (This frontend requires a controlling tty.)\n",
            "debconf: falling back to frontend: Teletype\n",
            "dpkg-preconfigure: unable to re-open stdin: \n",
            "Selecting previously unselected package tesseract-ocr-eng.\n",
            "(Reading database ... 120831 files and directories currently installed.)\n",
            "Preparing to unpack .../tesseract-ocr-eng_1%3a4.00~git30-7274cfa-1.1_all.deb ...\n",
            "Unpacking tesseract-ocr-eng (1:4.00~git30-7274cfa-1.1) ...\n",
            "Selecting previously unselected package tesseract-ocr-osd.\n",
            "Preparing to unpack .../tesseract-ocr-osd_1%3a4.00~git30-7274cfa-1.1_all.deb ...\n",
            "Unpacking tesseract-ocr-osd (1:4.00~git30-7274cfa-1.1) ...\n",
            "Selecting previously unselected package tesseract-ocr.\n",
            "Preparing to unpack .../tesseract-ocr_4.1.1-2.1build1_amd64.deb ...\n",
            "Unpacking tesseract-ocr (4.1.1-2.1build1) ...\n",
            "Setting up tesseract-ocr-eng (1:4.00~git30-7274cfa-1.1) ...\n",
            "Setting up tesseract-ocr-osd (1:4.00~git30-7274cfa-1.1) ...\n",
            "Setting up tesseract-ocr (4.1.1-2.1build1) ...\n",
            "Processing triggers for man-db (2.10.2-1) ...\n",
            "Collecting pytesseract\n",
            "  Downloading pytesseract-0.3.10-py3-none-any.whl (14 kB)\n",
            "Requirement already satisfied: packaging>=21.3 in /usr/local/lib/python3.10/dist-packages (from pytesseract) (23.1)\n",
            "Requirement already satisfied: Pillow>=8.0.0 in /usr/local/lib/python3.10/dist-packages (from pytesseract) (9.4.0)\n",
            "Installing collected packages: pytesseract\n",
            "Successfully installed pytesseract-0.3.10\n",
            "Reading package lists... Done\n",
            "Building dependency tree... Done\n",
            "Reading state information... Done\n",
            "The following additional packages will be installed:\n",
            "  libarchive-dev libleptonica-dev\n",
            "The following NEW packages will be installed:\n",
            "  libarchive-dev libleptonica-dev libtesseract-dev\n",
            "0 upgraded, 3 newly installed, 0 to remove and 16 not upgraded.\n",
            "Need to get 3,743 kB of archives.\n",
            "After this operation, 16.0 MB of additional disk space will be used.\n",
            "Get:1 http://archive.ubuntu.com/ubuntu jammy/main amd64 libarchive-dev amd64 3.6.0-1ubuntu1 [581 kB]\n",
            "Get:2 http://archive.ubuntu.com/ubuntu jammy/universe amd64 libleptonica-dev amd64 1.82.0-3build1 [1,562 kB]\n",
            "Get:3 http://archive.ubuntu.com/ubuntu jammy/universe amd64 libtesseract-dev amd64 4.1.1-2.1build1 [1,600 kB]\n",
            "Fetched 3,743 kB in 2s (1,639 kB/s)\n",
            "Selecting previously unselected package libarchive-dev:amd64.\n",
            "(Reading database ... 120878 files and directories currently installed.)\n",
            "Preparing to unpack .../libarchive-dev_3.6.0-1ubuntu1_amd64.deb ...\n",
            "Unpacking libarchive-dev:amd64 (3.6.0-1ubuntu1) ...\n",
            "Selecting previously unselected package libleptonica-dev.\n",
            "Preparing to unpack .../libleptonica-dev_1.82.0-3build1_amd64.deb ...\n",
            "Unpacking libleptonica-dev (1.82.0-3build1) ...\n",
            "Selecting previously unselected package libtesseract-dev:amd64.\n",
            "Preparing to unpack .../libtesseract-dev_4.1.1-2.1build1_amd64.deb ...\n",
            "Unpacking libtesseract-dev:amd64 (4.1.1-2.1build1) ...\n",
            "Setting up libleptonica-dev (1.82.0-3build1) ...\n",
            "Setting up libarchive-dev:amd64 (3.6.0-1ubuntu1) ...\n",
            "Setting up libtesseract-dev:amd64 (4.1.1-2.1build1) ...\n",
            "Processing triggers for man-db (2.10.2-1) ...\n"
          ]
        }
      ],
      "source": [
        "!sudo apt install tesseract-ocr\n",
        "!pip install pytesseract\n",
        "! apt install libtesseract-dev"
      ]
    },
    {
      "cell_type": "code",
      "source": [
        "import pytesseract\n",
        "import cv2 as cv2\n",
        "import matplotlib.pyplot as plt\n",
        "from google.colab.patches import cv2_imshow\n",
        "pytesseract.pytesseract.tesseract_cmd=r'/usr/bin/tesseract'\n"
      ],
      "metadata": {
        "id": "kEQTz4A00cTB"
      },
      "execution_count": 2,
      "outputs": []
    },
    {
      "cell_type": "markdown",
      "source": [
        "# to extract prescription part"
      ],
      "metadata": {
        "id": "91R4ddh30svZ"
      }
    },
    {
      "cell_type": "code",
      "source": [
        "import pytesseract\n",
        "from PIL import Image\n",
        "\n",
        "# Load the image\n",
        "image_path = '/content/med.jpg'\n",
        "img = Image.open(image_path)\n",
        "print(img.size)\n",
        "# Define the coordinates of the ROI  (left, top, right, bottom) (prescription part)\n",
        "mednames_coordinates = (100, 400, 650,1340 )  # Adjust these values based on your image\n",
        "# Define the coordinates of the ROI  (left, top, right, bottom) (frequency part)\n",
        "frequency_coordinates = (650, 400, 800,1340 )  # Adjust these values based on your image\n",
        "\n",
        "# Crop the image to the ROI\n",
        "roi_image1 = img.crop(mednames_coordinates)\n",
        "roi_image2 = img.crop(frequency_coordinates)\n",
        "# Perform OCR on the cropped image\n",
        "roi_text1 = pytesseract.image_to_string(roi_image1)\n",
        "print(roi_text1)\n",
        "print('hehehehheeheh!!!i did itttt')\n",
        "roi_text2 = pytesseract.image_to_string(roi_image2)\n",
        "print(roi_text2)\n"
      ],
      "metadata": {
        "colab": {
          "base_uri": "https://localhost:8080/"
        },
        "id": "_5Xaetcc0lWq",
        "outputId": "fee07dbb-119c-45c7-fdda-0664a14dc9a1"
      },
      "execution_count": 3,
      "outputs": [
        {
          "output_type": "stream",
          "name": "stdout",
          "text": [
            "(1130, 1600)\n",
            "SALBAIR TRANSHALER INHALER\n",
            "Levosalbutamol 50mcg\n",
            "\n",
            "To be inhaled as per instructions found in the instruction booklet\n",
            "MOXCLAV 625 TABLET\n",
            "Amoxicillin 500mg + Clavulanic Acid 125mg\n",
            "\n",
            "MAXITHRAL 500 TABLET\n",
            "Azithromycin 500mg\n",
            "\n",
            "MONTEK LC TABLET\n",
            "\n",
            "MONTELUKAST 10mg + LEVOCETRIZINE 5mg\n",
            "\n",
            "SOMPRAZ 20 TABLET\n",
            "Esomeprazole 20mg\n",
            "\f\n",
            "hehehehheeheh!!!i did itttt\n",
            "(MN - AF - EN -1\n",
            "\n",
            "1-0-0-1\n",
            "Before food\n",
            "\n",
            "1-1-0-1\n",
            "After food\n",
            "\n",
            "1-0-0-0\n",
            "After food\n",
            "\n",
            "0-0-0-1\n",
            "After food\n",
            "\n",
            "1-0-0-1\n",
            "Before food\n",
            "\f\n"
          ]
        }
      ]
    },
    {
      "cell_type": "markdown",
      "source": [
        "#  crop and extract relevant info only"
      ],
      "metadata": {
        "id": "3ayMXRnh1JsU"
      }
    },
    {
      "cell_type": "code",
      "source": [
        "import pytesseract\n",
        "from PIL import Image\n",
        "\n",
        "def crop_and_ocr(image, coordinates):\n",
        "    roi_image = image.crop(coordinates)\n",
        "    roi_text = pytesseract.image_to_string(roi_image)\n",
        "    return roi_text\n",
        "\n",
        "def info():\n",
        "    # Load the image\n",
        "    image_path = '/content/med.jpg'\n",
        "    img = Image.open(image_path)\n",
        "    #print(img.size)\n",
        "\n",
        "    # Define the coordinates of the ROIs (left, top, right, bottom)\n",
        "    mednames_coordinates = (100, 400, 650, 1340)\n",
        "    frequency_coordinates = (650, 400, 800, 1340)\n",
        "\n",
        "    # Perform OCR on the cropped images\n",
        "    mednames_text = crop_and_ocr(img, mednames_coordinates)\n",
        "    frequency_text = crop_and_ocr(img, frequency_coordinates)\n",
        "\n",
        "    #print(\"Extracted Medicine Names:\")\n",
        "    print(mednames_text)\n",
        "    #print(\"Extracted Frequencies:\")\n",
        "    #print(frequency_text)\n",
        "\n",
        "if __name__ == \"__main__\":\n",
        "    info()\n"
      ],
      "metadata": {
        "colab": {
          "base_uri": "https://localhost:8080/"
        },
        "id": "C3mD5epw1Do9",
        "outputId": "fa0882d8-336a-4616-dc8a-e9a88d950777"
      },
      "execution_count": 4,
      "outputs": [
        {
          "output_type": "stream",
          "name": "stdout",
          "text": [
            "SALBAIR TRANSHALER INHALER\n",
            "Levosalbutamol 50mcg\n",
            "\n",
            "To be inhaled as per instructions found in the instruction booklet\n",
            "MOXCLAV 625 TABLET\n",
            "Amoxicillin 500mg + Clavulanic Acid 125mg\n",
            "\n",
            "MAXITHRAL 500 TABLET\n",
            "Azithromycin 500mg\n",
            "\n",
            "MONTEK LC TABLET\n",
            "\n",
            "MONTELUKAST 10mg + LEVOCETRIZINE 5mg\n",
            "\n",
            "SOMPRAZ 20 TABLET\n",
            "Esomeprazole 20mg\n",
            "\f\n"
          ]
        }
      ]
    },
    {
      "cell_type": "code",
      "source": [
        "import re\n",
        "def extract_medicine_names_and_frequencies(text):\n",
        "\n",
        "    image_path = '/content/med.jpg'\n",
        "    img = Image.open(image_path)\n",
        "    mednames_text = crop_and_ocr(img, mednames_coordinates)  # Replace with your extracted medicine names text\n",
        "    frequency_text = crop_and_ocr(img, frequency_coordinates)\n",
        "    lines = text.split('\\n')\n",
        "    #medicine_name_pattern = r'^[A-Z][A-Z ]*(?:TABLET|INHALER|SYRUP|CAPSULE)'\n",
        "    medicine_name_pattern = r'^[A-Z0-9 ]+$'\n",
        "\n",
        "    frequency_pattern = r'^(\\d-\\d-\\d-\\d)+$'\n",
        "\n",
        "    medicine_names = []\n",
        "    frequencies = []\n",
        "    current_medicine = None\n",
        "\n",
        "    for line in lines:\n",
        "        # Check for medicine name\n",
        "        if re.match(medicine_name_pattern, line):\n",
        "            current_medicine = line\n",
        "            medicine_names.append(current_medicine)\n",
        "        # Check for frequency\n",
        "        elif re.match(frequency_pattern, line):\n",
        "            frequencies.append(line)\n",
        "\n",
        "    return medicine_names, frequencies\n"
      ],
      "metadata": {
        "id": "sdMVHxKW1Oao"
      },
      "execution_count": 5,
      "outputs": []
    },
    {
      "cell_type": "code",
      "source": [
        "mednames_text = crop_and_ocr(img, mednames_coordinates)\n",
        "medicine_names, _ = extract_medicine_names_and_frequencies(mednames_text)\n",
        "print(\"Number of Medicine Names:\", len(medicine_names))\n",
        "print(medicine_names)\n",
        "\n",
        "frequency_text = crop_and_ocr(img, frequency_coordinates)\n",
        "_, frequencies = extract_medicine_names_and_frequencies(frequency_text)\n",
        "print(\"Number of Frequencies:\", len(frequencies))\n",
        "print(frequencies)\n"
      ],
      "metadata": {
        "colab": {
          "base_uri": "https://localhost:8080/"
        },
        "id": "J9HYn_Jg1V36",
        "outputId": "eac94e1d-d0f8-493a-b3aa-86e07fafad1f"
      },
      "execution_count": 6,
      "outputs": [
        {
          "output_type": "stream",
          "name": "stdout",
          "text": [
            "Number of Medicine Names: 5\n",
            "['SALBAIR TRANSHALER INHALER', 'MOXCLAV 625 TABLET', 'MAXITHRAL 500 TABLET', 'MONTEK LC TABLET', 'SOMPRAZ 20 TABLET']\n",
            "Number of Frequencies: 5\n",
            "['1-0-0-1', '1-1-0-1', '1-0-0-0', '0-0-0-1', '1-0-0-1']\n"
          ]
        }
      ]
    },
    {
      "cell_type": "code",
      "source": [
        "def final_info():\n",
        "    medicine_frequency_dict = dict(zip(medicine_names, frequencies))\n",
        "    for medicine, frequency in medicine_frequency_dict.items():\n",
        "        print(f\"Medicine: {medicine}, Frequency: {frequency}\")\n",
        "    return medicine_frequency_dict\n",
        "final_info()"
      ],
      "metadata": {
        "colab": {
          "base_uri": "https://localhost:8080/"
        },
        "id": "83_sib9f1c-S",
        "outputId": "15bac381-7042-4084-f85c-e24e66a39321"
      },
      "execution_count": 10,
      "outputs": [
        {
          "output_type": "stream",
          "name": "stdout",
          "text": [
            "Medicine: SALBAIR TRANSHALER INHALER, Frequency: 1-0-0-1\n",
            "Medicine: MOXCLAV 625 TABLET, Frequency: 1-1-0-1\n",
            "Medicine: MAXITHRAL 500 TABLET, Frequency: 1-0-0-0\n",
            "Medicine: MONTEK LC TABLET, Frequency: 0-0-0-1\n",
            "Medicine: SOMPRAZ 20 TABLET, Frequency: 1-0-0-1\n"
          ]
        },
        {
          "output_type": "execute_result",
          "data": {
            "text/plain": [
              "{'SALBAIR TRANSHALER INHALER': '1-0-0-1',\n",
              " 'MOXCLAV 625 TABLET': '1-1-0-1',\n",
              " 'MAXITHRAL 500 TABLET': '1-0-0-0',\n",
              " 'MONTEK LC TABLET': '0-0-0-1',\n",
              " 'SOMPRAZ 20 TABLET': '1-0-0-1'}"
            ]
          },
          "metadata": {},
          "execution_count": 10
        }
      ]
    },
    {
      "cell_type": "code",
      "source": [],
      "metadata": {
        "id": "ap7wjxpx2CFU"
      },
      "execution_count": null,
      "outputs": []
    }
  ]
}